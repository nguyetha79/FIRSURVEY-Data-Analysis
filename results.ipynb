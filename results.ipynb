{
 "cells": [
  {
   "cell_type": "code",
   "execution_count": 43,
   "metadata": {},
   "outputs": [
    {
     "name": "stdout",
     "output_type": "stream",
     "text": [
      "Requirement already satisfied: spicy in c:\\users\\nguyet ha\\anaconda3\\lib\\site-packages (0.16.0)\n",
      "Collecting krippendorff\n",
      "  Downloading krippendorff-0.6.1-py3-none-any.whl (18 kB)\n",
      "Requirement already satisfied: scipy in c:\\users\\nguyet ha\\anaconda3\\lib\\site-packages (from spicy) (1.7.1)\n",
      "Requirement already satisfied: numpy<2.0,>=1.21 in c:\\users\\nguyet ha\\anaconda3\\lib\\site-packages (from krippendorff) (1.22.4)\n",
      "Installing collected packages: krippendorff\n",
      "Successfully installed krippendorff-0.6.1\n"
     ]
    },
    {
     "name": "stderr",
     "output_type": "stream",
     "text": [
      "WARNING: Ignoring invalid distribution -yopengl-accelerate (c:\\users\\nguyet ha\\anaconda3\\lib\\site-packages)\n",
      "WARNING: Ignoring invalid distribution -yopengl-accelerate (c:\\users\\nguyet ha\\anaconda3\\lib\\site-packages)\n",
      "\n",
      "[notice] A new release of pip is available: 23.1 -> 24.0\n",
      "[notice] To update, run: python.exe -m pip install --upgrade pip\n"
     ]
    }
   ],
   "source": [
    "# ! pip install pymongo spicy\n",
    "# ! pip install matplotlib seaborn pandas numpy\n",
    "# ! pip install pingouin\n",
    "! pip install spicy krippendorff "
   ]
  },
  {
   "cell_type": "code",
   "execution_count": 44,
   "metadata": {},
   "outputs": [],
   "source": [
    "%matplotlib inline\n",
    "import pandas as pd\n",
    "import numpy as np\n",
    "import math\n",
    "import seaborn as sns\n",
    "import matplotlib.pyplot as plt\n",
    "import bson, json\n",
    "from datetime import datetime\n",
    "from collections import defaultdict\n",
    "from pingouin import reliability\n",
    "from scipy.stats import shapiro, f_oneway, ttest_ind\n",
    "import krippendorff as kd\n"
   ]
  },
  {
   "cell_type": "markdown",
   "metadata": {},
   "source": [
    "# Descriptive Statisctic"
   ]
  },
  {
   "cell_type": "markdown",
   "metadata": {},
   "source": [
    "## Method definition"
   ]
  },
  {
   "cell_type": "code",
   "execution_count": 2,
   "metadata": {},
   "outputs": [],
   "source": [
    "# Convert bson file to dataframe\n",
    "def bson_to_dataframe(filename):\n",
    "    with open(f'./bson/{filename}.bson', 'rb') as f:\n",
    "        data = bson.decode_all(f.read())\n",
    "        df = pd.DataFrame(data)\n",
    "    return df"
   ]
  },
  {
   "cell_type": "code",
   "execution_count": 3,
   "metadata": {},
   "outputs": [],
   "source": [
    "# Convert json file to dataframe\n",
    "def json_to_dataframe(filename):\n",
    "    with open(f'./json/{filename}.json', 'rb') as f:\n",
    "        data = json.load(f)\n",
    "        df = pd.DataFrame(data)\n",
    "    return df"
   ]
  },
  {
   "cell_type": "code",
   "execution_count": 4,
   "metadata": {},
   "outputs": [],
   "source": [
    "# Calculate duration \n",
    "'''\n",
    "Title: Calculate Time Difference Between Two Pandas Columns in Hours and Minutes\n",
    "Author: cottontail\n",
    "Date: Feb 16, 2023\n",
    "Availability: https://stackoverflow.com/questions/22923775/calculate-time-difference-between-two-pandas-columns-in-hours-and-minutes\n",
    "'''\n",
    "def cal_total_time(start_time, end_time):\n",
    "    start_time = pd.to_datetime(start_time)\n",
    "    end_time = pd.to_datetime(end_time)\n",
    "    duration = end_time - start_time\n",
    "    duration_readable = \"{:02}:{:02}:{:02}\".format(int(duration.seconds / 3600), int((duration.seconds % 3600) / 60), int(duration.seconds % 60))\n",
    "\n",
    "    return duration_readable"
   ]
  },
  {
   "cell_type": "code",
   "execution_count": 5,
   "metadata": {},
   "outputs": [],
   "source": [
    "# Extract results of surveys\n",
    "def extract_survey_results(dataframe):\n",
    "    results = dataframe['results']\n",
    "\n",
    "    '''\n",
    "    Title: Convert Pandas Series to Dict in Python (with code)\n",
    "    Author: Riddhima Agarwal\n",
    "    Date: Jun 10, 2023\n",
    "    Availability: https://favtutor.com/blogs/pandas-series-to-dict#:~:text=A%20Pandas%20Series%20can%20be,the%20Pandas%20Series%20as%20values\n",
    "    '''\n",
    "    results_list = results.to_list()\n",
    "    results_df = pd.DataFrame(results_list)\n",
    "\n",
    "    dataframe_joined = dataframe.join(results_df)\n",
    "    columns = ['_id', 'results', 'createdAt', 'updatedAt', '__v']\n",
    "    dataframe = dataframe_joined.drop(columns=columns, axis=1)\n",
    "\n",
    "    return dataframe"
   ]
  },
  {
   "cell_type": "code",
   "execution_count": 120,
   "metadata": {},
   "outputs": [],
   "source": [
    "'''\n",
    "Title: Inter-rater reliability calculation for multi-raters data\n",
    "Author: DieseRobin\n",
    "Date: Nov 25, 2021\n",
    "Availability: https://stackoverflow.com/questions/56481245/inter-rater-reliability-calculation-for-multi-raters-data\n",
    "'''\n",
    "def cal_kippendorf_alpha(df, col):\n",
    "    matrix = df.pivot(index='user_id', columns='task_id', values=col).values.astype(int)\n",
    "    alpha = kd.alpha(matrix, level_of_measurement='nominal')\n",
    "    return alpha"
   ]
  },
  {
   "cell_type": "code",
   "execution_count": null,
   "metadata": {},
   "outputs": [],
   "source": [
    "# Draw heatmap to show level of familiarity, complexity and satisfaction for each user and task\n",
    "def draw_heatmap(df, selected_column, cmap):\n",
    "    heatmap_data = df.pivot_table(index='user_id', columns='task_id', values=selected_column, fill_value=0)\n",
    "\n",
    "    plt.figure(figsize=(6, 3))\n",
    "    sns.heatmap(heatmap_data, annot=True, fmt=\".1f\", cmap=cmap, linewidths=.5)\n",
    "    plt.title(f'{selected_column} heatmap')\n",
    "    plt.xlabel('Task ID')\n",
    "    plt.ylabel('User ID')\n",
    "    plt.savefig(f'plot_output/{selected_column}_heatmap.jpg')"
   ]
  },
  {
   "cell_type": "markdown",
   "metadata": {},
   "source": [
    "## Data Exploration"
   ]
  },
  {
   "cell_type": "code",
   "execution_count": 123,
   "metadata": {},
   "outputs": [],
   "source": [
    "users_df = bson_to_dataframe(\"users\")\n",
    "prestudies_df = bson_to_dataframe(\"prestudies\")\n",
    "pretasks_df = bson_to_dataframe(\"pretasks\")\n",
    "sessions_df = bson_to_dataframe(\"sessions\")\n",
    "searchinteractions_df = bson_to_dataframe(\"searchinteractions\")\n",
    "documents_df = bson_to_dataframe(\"documents\")\n",
    "chatinteractions_df = bson_to_dataframe(\"chatinteractions\")\n",
    "posttasks_df = bson_to_dataframe(\"posttasks\")\n",
    "poststudies_df = bson_to_dataframe(\"poststudies\")\n",
    "\n",
    "tasks_df = json_to_dataframe(\"tasks\")"
   ]
  },
  {
   "cell_type": "code",
   "execution_count": 97,
   "metadata": {},
   "outputs": [
    {
     "data": {
      "text/html": [
       "<div>\n",
       "<style scoped>\n",
       "    .dataframe tbody tr th:only-of-type {\n",
       "        vertical-align: middle;\n",
       "    }\n",
       "\n",
       "    .dataframe tbody tr th {\n",
       "        vertical-align: top;\n",
       "    }\n",
       "\n",
       "    .dataframe thead th {\n",
       "        text-align: right;\n",
       "    }\n",
       "</style>\n",
       "<table border=\"1\" class=\"dataframe\">\n",
       "  <thead>\n",
       "    <tr style=\"text-align: right;\">\n",
       "      <th></th>\n",
       "      <th>user_id</th>\n",
       "      <th>study_total_time</th>\n",
       "    </tr>\n",
       "  </thead>\n",
       "  <tbody>\n",
       "    <tr>\n",
       "      <th>0</th>\n",
       "      <td>4edf0ff5-b5aa-4957-9431-4fbf4cacaf6a</td>\n",
       "      <td>00:11:21</td>\n",
       "    </tr>\n",
       "    <tr>\n",
       "      <th>1</th>\n",
       "      <td>e0711a26-c616-463c-9b05-f0afaf871f31</td>\n",
       "      <td>01:23:42</td>\n",
       "    </tr>\n",
       "    <tr>\n",
       "      <th>2</th>\n",
       "      <td>15c09788-9078-4e28-9ec0-91d634c5b9ca</td>\n",
       "      <td>00:30:51</td>\n",
       "    </tr>\n",
       "    <tr>\n",
       "      <th>3</th>\n",
       "      <td>34f7c191-ff70-407c-b818-49e35cbb068f</td>\n",
       "      <td>00:15:01</td>\n",
       "    </tr>\n",
       "    <tr>\n",
       "      <th>4</th>\n",
       "      <td>2fbf76df-1101-4ac6-b75b-f49df2266232</td>\n",
       "      <td>00:32:11</td>\n",
       "    </tr>\n",
       "    <tr>\n",
       "      <th>5</th>\n",
       "      <td>fe53df51-c33e-4114-986c-c9efcca99259</td>\n",
       "      <td>00:38:17</td>\n",
       "    </tr>\n",
       "    <tr>\n",
       "      <th>6</th>\n",
       "      <td>525d6692-2c89-4871-b945-28f5d35a789b</td>\n",
       "      <td>00:10:58</td>\n",
       "    </tr>\n",
       "    <tr>\n",
       "      <th>7</th>\n",
       "      <td>d235cab9-2a67-4667-8857-a51566cffaf7</td>\n",
       "      <td>00:18:22</td>\n",
       "    </tr>\n",
       "    <tr>\n",
       "      <th>8</th>\n",
       "      <td>7c2b4159-df97-40a1-8376-23df2a4711ba</td>\n",
       "      <td>00:35:29</td>\n",
       "    </tr>\n",
       "    <tr>\n",
       "      <th>9</th>\n",
       "      <td>d80ef3e3-ebb7-40a5-9ce1-812e754809aa</td>\n",
       "      <td>00:51:39</td>\n",
       "    </tr>\n",
       "    <tr>\n",
       "      <th>10</th>\n",
       "      <td>c5902c7b-a503-4f84-9636-0676d4234518</td>\n",
       "      <td>00:13:51</td>\n",
       "    </tr>\n",
       "  </tbody>\n",
       "</table>\n",
       "</div>"
      ],
      "text/plain": [
       "                                 user_id study_total_time\n",
       "0   4edf0ff5-b5aa-4957-9431-4fbf4cacaf6a         00:11:21\n",
       "1   e0711a26-c616-463c-9b05-f0afaf871f31         01:23:42\n",
       "2   15c09788-9078-4e28-9ec0-91d634c5b9ca         00:30:51\n",
       "3   34f7c191-ff70-407c-b818-49e35cbb068f         00:15:01\n",
       "4   2fbf76df-1101-4ac6-b75b-f49df2266232         00:32:11\n",
       "5   fe53df51-c33e-4114-986c-c9efcca99259         00:38:17\n",
       "6   525d6692-2c89-4871-b945-28f5d35a789b         00:10:58\n",
       "7   d235cab9-2a67-4667-8857-a51566cffaf7         00:18:22\n",
       "8   7c2b4159-df97-40a1-8376-23df2a4711ba         00:35:29\n",
       "9   d80ef3e3-ebb7-40a5-9ce1-812e754809aa         00:51:39\n",
       "10  c5902c7b-a503-4f84-9636-0676d4234518         00:13:51"
      ]
     },
     "execution_count": 97,
     "metadata": {},
     "output_type": "execute_result"
    }
   ],
   "source": [
    "users_df['study_total_time'] = users_df.apply(lambda row: cal_total_time(row['study_start_time'], row['study_end_time']), axis=1)\n",
    "users_df = users_df[['user_id', 'study_total_time']]\n",
    "users_df"
   ]
  },
  {
   "cell_type": "markdown",
   "metadata": {},
   "source": [
    "Clean data to avoid bias"
   ]
  },
  {
   "cell_type": "code",
   "execution_count": 98,
   "metadata": {},
   "outputs": [],
   "source": [
    "# filter only data of people who did the entire study\n",
    "def filter_users(df):\n",
    "    df = df[df['user_id'].isin(users_df['user_id'])]\n",
    "    return df"
   ]
  },
  {
   "cell_type": "code",
   "execution_count": 99,
   "metadata": {},
   "outputs": [],
   "source": [
    "prestudies_df = filter_users(prestudies_df)\n",
    "pretasks_df = filter_users(pretasks_df)\n",
    "sessions_df = filter_users(sessions_df)\n",
    "searchinteractions_df = filter_users(searchinteractions_df)\n",
    "chatinteractions_df = filter_users(chatinteractions_df)\n",
    "posttasks_df = filter_users(posttasks_df)\n",
    "poststudies_df = filter_users(poststudies_df)\n",
    "\n",
    "documents_df = documents_df[documents_df['interaction_id'].isin(searchinteractions_df['interaction_id'])]"
   ]
  },
  {
   "cell_type": "markdown",
   "metadata": {},
   "source": [
    "### Data Analysis"
   ]
  },
  {
   "cell_type": "markdown",
   "metadata": {},
   "source": [
    "### a. Survey Data"
   ]
  },
  {
   "cell_type": "markdown",
   "metadata": {},
   "source": [
    "#### 1. System experience"
   ]
  },
  {
   "cell_type": "code",
   "execution_count": 124,
   "metadata": {},
   "outputs": [
    {
     "data": {
      "text/html": [
       "<div>\n",
       "<style scoped>\n",
       "    .dataframe tbody tr th:only-of-type {\n",
       "        vertical-align: middle;\n",
       "    }\n",
       "\n",
       "    .dataframe tbody tr th {\n",
       "        vertical-align: top;\n",
       "    }\n",
       "\n",
       "    .dataframe thead th {\n",
       "        text-align: right;\n",
       "    }\n",
       "</style>\n",
       "<table border=\"1\" class=\"dataframe\">\n",
       "  <thead>\n",
       "    <tr style=\"text-align: right;\">\n",
       "      <th></th>\n",
       "      <th>user_id</th>\n",
       "      <th>search-engine-usage</th>\n",
       "      <th>Ai-copilots-usage</th>\n",
       "      <th>onl-search-freq</th>\n",
       "      <th>ai-search-freq</th>\n",
       "    </tr>\n",
       "  </thead>\n",
       "  <tbody>\n",
       "    <tr>\n",
       "      <th>0</th>\n",
       "      <td>4edf0ff5-b5aa-4957-9431-4fbf4cacaf6a</td>\n",
       "      <td>6</td>\n",
       "      <td>4</td>\n",
       "      <td>Once per day</td>\n",
       "      <td>Once per week</td>\n",
       "    </tr>\n",
       "    <tr>\n",
       "      <th>1</th>\n",
       "      <td>e0711a26-c616-463c-9b05-f0afaf871f31</td>\n",
       "      <td>7</td>\n",
       "      <td>5</td>\n",
       "      <td>Multiple times per day</td>\n",
       "      <td>Multiple times per week</td>\n",
       "    </tr>\n",
       "    <tr>\n",
       "      <th>2</th>\n",
       "      <td>15c09788-9078-4e28-9ec0-91d634c5b9ca</td>\n",
       "      <td>7</td>\n",
       "      <td>2</td>\n",
       "      <td>Multiple times per day</td>\n",
       "      <td>Once per week</td>\n",
       "    </tr>\n",
       "    <tr>\n",
       "      <th>3</th>\n",
       "      <td>34f7c191-ff70-407c-b818-49e35cbb068f</td>\n",
       "      <td>7</td>\n",
       "      <td>6</td>\n",
       "      <td>Multiple times per day</td>\n",
       "      <td>Once per day</td>\n",
       "    </tr>\n",
       "    <tr>\n",
       "      <th>4</th>\n",
       "      <td>2fbf76df-1101-4ac6-b75b-f49df2266232</td>\n",
       "      <td>7</td>\n",
       "      <td>7</td>\n",
       "      <td>Multiple times per day</td>\n",
       "      <td>Multiple times per day</td>\n",
       "    </tr>\n",
       "    <tr>\n",
       "      <th>5</th>\n",
       "      <td>fe53df51-c33e-4114-986c-c9efcca99259</td>\n",
       "      <td>7</td>\n",
       "      <td>7</td>\n",
       "      <td>Multiple times per day</td>\n",
       "      <td>Multiple times per day</td>\n",
       "    </tr>\n",
       "    <tr>\n",
       "      <th>6</th>\n",
       "      <td>525d6692-2c89-4871-b945-28f5d35a789b</td>\n",
       "      <td>7</td>\n",
       "      <td>6</td>\n",
       "      <td>Multiple times per day</td>\n",
       "      <td>Once per day</td>\n",
       "    </tr>\n",
       "    <tr>\n",
       "      <th>7</th>\n",
       "      <td>d235cab9-2a67-4667-8857-a51566cffaf7</td>\n",
       "      <td>7</td>\n",
       "      <td>1</td>\n",
       "      <td>Multiple times per day</td>\n",
       "      <td>Never</td>\n",
       "    </tr>\n",
       "    <tr>\n",
       "      <th>8</th>\n",
       "      <td>7c2b4159-df97-40a1-8376-23df2a4711ba</td>\n",
       "      <td>6</td>\n",
       "      <td>6</td>\n",
       "      <td>Multiple times per day</td>\n",
       "      <td>Multiple times per week</td>\n",
       "    </tr>\n",
       "    <tr>\n",
       "      <th>9</th>\n",
       "      <td>d80ef3e3-ebb7-40a5-9ce1-812e754809aa</td>\n",
       "      <td>7</td>\n",
       "      <td>5</td>\n",
       "      <td>Multiple times per week</td>\n",
       "      <td>Multiple times per week</td>\n",
       "    </tr>\n",
       "    <tr>\n",
       "      <th>10</th>\n",
       "      <td>c5902c7b-a503-4f84-9636-0676d4234518</td>\n",
       "      <td>7</td>\n",
       "      <td>2</td>\n",
       "      <td>Multiple times per day</td>\n",
       "      <td>Never</td>\n",
       "    </tr>\n",
       "  </tbody>\n",
       "</table>\n",
       "</div>"
      ],
      "text/plain": [
       "                                 user_id  search-engine-usage  \\\n",
       "0   4edf0ff5-b5aa-4957-9431-4fbf4cacaf6a                    6   \n",
       "1   e0711a26-c616-463c-9b05-f0afaf871f31                    7   \n",
       "2   15c09788-9078-4e28-9ec0-91d634c5b9ca                    7   \n",
       "3   34f7c191-ff70-407c-b818-49e35cbb068f                    7   \n",
       "4   2fbf76df-1101-4ac6-b75b-f49df2266232                    7   \n",
       "5   fe53df51-c33e-4114-986c-c9efcca99259                    7   \n",
       "6   525d6692-2c89-4871-b945-28f5d35a789b                    7   \n",
       "7   d235cab9-2a67-4667-8857-a51566cffaf7                    7   \n",
       "8   7c2b4159-df97-40a1-8376-23df2a4711ba                    6   \n",
       "9   d80ef3e3-ebb7-40a5-9ce1-812e754809aa                    7   \n",
       "10  c5902c7b-a503-4f84-9636-0676d4234518                    7   \n",
       "\n",
       "    Ai-copilots-usage          onl-search-freq           ai-search-freq  \n",
       "0                   4             Once per day            Once per week  \n",
       "1                   5   Multiple times per day  Multiple times per week  \n",
       "2                   2   Multiple times per day            Once per week  \n",
       "3                   6   Multiple times per day             Once per day  \n",
       "4                   7   Multiple times per day   Multiple times per day  \n",
       "5                   7   Multiple times per day   Multiple times per day  \n",
       "6                   6   Multiple times per day             Once per day  \n",
       "7                   1   Multiple times per day                    Never  \n",
       "8                   6   Multiple times per day  Multiple times per week  \n",
       "9                   5  Multiple times per week  Multiple times per week  \n",
       "10                  2   Multiple times per day                    Never  "
      ]
     },
     "execution_count": 124,
     "metadata": {},
     "output_type": "execute_result"
    }
   ],
   "source": [
    "prestudies_df = extract_survey_results(prestudies_df)\n",
    "prestudies_df"
   ]
  },
  {
   "cell_type": "code",
   "execution_count": 125,
   "metadata": {},
   "outputs": [
    {
     "data": {
      "text/plain": [
       "(-0.06504065040650353, array([-2.959,  0.713]))"
      ]
     },
     "execution_count": 125,
     "metadata": {},
     "output_type": "execute_result"
    }
   ],
   "source": [
    "prestudies_alpha = reliability.cronbach_alpha(data=prestudies_df[['search-engine-usage', 'Ai-copilots-usage']])\n",
    "prestudies_alpha"
   ]
  },
  {
   "cell_type": "code",
   "execution_count": 127,
   "metadata": {},
   "outputs": [
    {
     "data": {
      "text/html": [
       "<div>\n",
       "<style scoped>\n",
       "    .dataframe tbody tr th:only-of-type {\n",
       "        vertical-align: middle;\n",
       "    }\n",
       "\n",
       "    .dataframe tbody tr th {\n",
       "        vertical-align: top;\n",
       "    }\n",
       "\n",
       "    .dataframe thead th {\n",
       "        text-align: right;\n",
       "    }\n",
       "</style>\n",
       "<table border=\"1\" class=\"dataframe\">\n",
       "  <thead>\n",
       "    <tr style=\"text-align: right;\">\n",
       "      <th></th>\n",
       "      <th>user_id</th>\n",
       "      <th>onl-search-freq</th>\n",
       "      <th>ai-search-freq</th>\n",
       "    </tr>\n",
       "  </thead>\n",
       "  <tbody>\n",
       "    <tr>\n",
       "      <th>0</th>\n",
       "      <td>4edf0ff5-b5aa-4957-9431-4fbf4cacaf6a</td>\n",
       "      <td>Once per day</td>\n",
       "      <td>Once per week</td>\n",
       "    </tr>\n",
       "    <tr>\n",
       "      <th>1</th>\n",
       "      <td>e0711a26-c616-463c-9b05-f0afaf871f31</td>\n",
       "      <td>Multiple times per day</td>\n",
       "      <td>Multiple times per week</td>\n",
       "    </tr>\n",
       "    <tr>\n",
       "      <th>2</th>\n",
       "      <td>15c09788-9078-4e28-9ec0-91d634c5b9ca</td>\n",
       "      <td>Multiple times per day</td>\n",
       "      <td>Once per week</td>\n",
       "    </tr>\n",
       "    <tr>\n",
       "      <th>3</th>\n",
       "      <td>34f7c191-ff70-407c-b818-49e35cbb068f</td>\n",
       "      <td>Multiple times per day</td>\n",
       "      <td>Once per day</td>\n",
       "    </tr>\n",
       "    <tr>\n",
       "      <th>4</th>\n",
       "      <td>2fbf76df-1101-4ac6-b75b-f49df2266232</td>\n",
       "      <td>Multiple times per day</td>\n",
       "      <td>Multiple times per day</td>\n",
       "    </tr>\n",
       "    <tr>\n",
       "      <th>5</th>\n",
       "      <td>fe53df51-c33e-4114-986c-c9efcca99259</td>\n",
       "      <td>Multiple times per day</td>\n",
       "      <td>Multiple times per day</td>\n",
       "    </tr>\n",
       "    <tr>\n",
       "      <th>6</th>\n",
       "      <td>525d6692-2c89-4871-b945-28f5d35a789b</td>\n",
       "      <td>Multiple times per day</td>\n",
       "      <td>Once per day</td>\n",
       "    </tr>\n",
       "    <tr>\n",
       "      <th>7</th>\n",
       "      <td>d235cab9-2a67-4667-8857-a51566cffaf7</td>\n",
       "      <td>Multiple times per day</td>\n",
       "      <td>Never</td>\n",
       "    </tr>\n",
       "    <tr>\n",
       "      <th>8</th>\n",
       "      <td>7c2b4159-df97-40a1-8376-23df2a4711ba</td>\n",
       "      <td>Multiple times per day</td>\n",
       "      <td>Multiple times per week</td>\n",
       "    </tr>\n",
       "    <tr>\n",
       "      <th>9</th>\n",
       "      <td>d80ef3e3-ebb7-40a5-9ce1-812e754809aa</td>\n",
       "      <td>Multiple times per week</td>\n",
       "      <td>Multiple times per week</td>\n",
       "    </tr>\n",
       "    <tr>\n",
       "      <th>10</th>\n",
       "      <td>c5902c7b-a503-4f84-9636-0676d4234518</td>\n",
       "      <td>Multiple times per day</td>\n",
       "      <td>Never</td>\n",
       "    </tr>\n",
       "  </tbody>\n",
       "</table>\n",
       "</div>"
      ],
      "text/plain": [
       "                                 user_id          onl-search-freq  \\\n",
       "0   4edf0ff5-b5aa-4957-9431-4fbf4cacaf6a             Once per day   \n",
       "1   e0711a26-c616-463c-9b05-f0afaf871f31   Multiple times per day   \n",
       "2   15c09788-9078-4e28-9ec0-91d634c5b9ca   Multiple times per day   \n",
       "3   34f7c191-ff70-407c-b818-49e35cbb068f   Multiple times per day   \n",
       "4   2fbf76df-1101-4ac6-b75b-f49df2266232   Multiple times per day   \n",
       "5   fe53df51-c33e-4114-986c-c9efcca99259   Multiple times per day   \n",
       "6   525d6692-2c89-4871-b945-28f5d35a789b   Multiple times per day   \n",
       "7   d235cab9-2a67-4667-8857-a51566cffaf7   Multiple times per day   \n",
       "8   7c2b4159-df97-40a1-8376-23df2a4711ba   Multiple times per day   \n",
       "9   d80ef3e3-ebb7-40a5-9ce1-812e754809aa  Multiple times per week   \n",
       "10  c5902c7b-a503-4f84-9636-0676d4234518   Multiple times per day   \n",
       "\n",
       "             ai-search-freq  \n",
       "0             Once per week  \n",
       "1   Multiple times per week  \n",
       "2             Once per week  \n",
       "3              Once per day  \n",
       "4    Multiple times per day  \n",
       "5    Multiple times per day  \n",
       "6              Once per day  \n",
       "7                     Never  \n",
       "8   Multiple times per week  \n",
       "9   Multiple times per week  \n",
       "10                    Never  "
      ]
     },
     "execution_count": 127,
     "metadata": {},
     "output_type": "execute_result"
    }
   ],
   "source": [
    "df = prestudies_df[['user_id', 'onl-search-freq', 'ai-search-freq']]\n",
    "df"
   ]
  },
  {
   "cell_type": "code",
   "execution_count": 131,
   "metadata": {},
   "outputs": [
    {
     "data": {
      "text/html": [
       "<div>\n",
       "<style scoped>\n",
       "    .dataframe tbody tr th:only-of-type {\n",
       "        vertical-align: middle;\n",
       "    }\n",
       "\n",
       "    .dataframe tbody tr th {\n",
       "        vertical-align: top;\n",
       "    }\n",
       "\n",
       "    .dataframe thead th {\n",
       "        text-align: right;\n",
       "    }\n",
       "</style>\n",
       "<table border=\"1\" class=\"dataframe\">\n",
       "  <thead>\n",
       "    <tr style=\"text-align: right;\">\n",
       "      <th></th>\n",
       "      <th>onl-search-freq</th>\n",
       "      <th>count</th>\n",
       "    </tr>\n",
       "  </thead>\n",
       "  <tbody>\n",
       "    <tr>\n",
       "      <th>0</th>\n",
       "      <td>Multiple times per day</td>\n",
       "      <td>9</td>\n",
       "    </tr>\n",
       "    <tr>\n",
       "      <th>1</th>\n",
       "      <td>Multiple times per week</td>\n",
       "      <td>1</td>\n",
       "    </tr>\n",
       "    <tr>\n",
       "      <th>2</th>\n",
       "      <td>Once per day</td>\n",
       "      <td>1</td>\n",
       "    </tr>\n",
       "  </tbody>\n",
       "</table>\n",
       "</div>"
      ],
      "text/plain": [
       "           onl-search-freq  count\n",
       "0   Multiple times per day      9\n",
       "1  Multiple times per week      1\n",
       "2             Once per day      1"
      ]
     },
     "execution_count": 131,
     "metadata": {},
     "output_type": "execute_result"
    }
   ],
   "source": [
    "SE_freq = df.groupby(['onl-search-freq']).size().reset_index(name='count')\n",
    "SE_freq "
   ]
  },
  {
   "cell_type": "code",
   "execution_count": 132,
   "metadata": {},
   "outputs": [
    {
     "data": {
      "text/html": [
       "<div>\n",
       "<style scoped>\n",
       "    .dataframe tbody tr th:only-of-type {\n",
       "        vertical-align: middle;\n",
       "    }\n",
       "\n",
       "    .dataframe tbody tr th {\n",
       "        vertical-align: top;\n",
       "    }\n",
       "\n",
       "    .dataframe thead th {\n",
       "        text-align: right;\n",
       "    }\n",
       "</style>\n",
       "<table border=\"1\" class=\"dataframe\">\n",
       "  <thead>\n",
       "    <tr style=\"text-align: right;\">\n",
       "      <th></th>\n",
       "      <th>ai-search-freq</th>\n",
       "      <th>count</th>\n",
       "    </tr>\n",
       "  </thead>\n",
       "  <tbody>\n",
       "    <tr>\n",
       "      <th>0</th>\n",
       "      <td>Multiple times per day</td>\n",
       "      <td>2</td>\n",
       "    </tr>\n",
       "    <tr>\n",
       "      <th>1</th>\n",
       "      <td>Multiple times per week</td>\n",
       "      <td>3</td>\n",
       "    </tr>\n",
       "    <tr>\n",
       "      <th>2</th>\n",
       "      <td>Never</td>\n",
       "      <td>2</td>\n",
       "    </tr>\n",
       "    <tr>\n",
       "      <th>3</th>\n",
       "      <td>Once per day</td>\n",
       "      <td>2</td>\n",
       "    </tr>\n",
       "    <tr>\n",
       "      <th>4</th>\n",
       "      <td>Once per week</td>\n",
       "      <td>2</td>\n",
       "    </tr>\n",
       "  </tbody>\n",
       "</table>\n",
       "</div>"
      ],
      "text/plain": [
       "            ai-search-freq  count\n",
       "0   Multiple times per day      2\n",
       "1  Multiple times per week      3\n",
       "2                    Never      2\n",
       "3             Once per day      2\n",
       "4            Once per week      2"
      ]
     },
     "execution_count": 132,
     "metadata": {},
     "output_type": "execute_result"
    }
   ],
   "source": [
    "AI_freq = df.groupby(['ai-search-freq']).size().reset_index(name='count')\n",
    "AI_freq "
   ]
  },
  {
   "cell_type": "markdown",
   "metadata": {},
   "source": [
    "#### 2. Pre-Task Data Analysis"
   ]
  },
  {
   "cell_type": "code",
   "execution_count": 100,
   "metadata": {},
   "outputs": [
    {
     "data": {
      "text/html": [
       "<div>\n",
       "<style scoped>\n",
       "    .dataframe tbody tr th:only-of-type {\n",
       "        vertical-align: middle;\n",
       "    }\n",
       "\n",
       "    .dataframe tbody tr th {\n",
       "        vertical-align: top;\n",
       "    }\n",
       "\n",
       "    .dataframe thead th {\n",
       "        text-align: right;\n",
       "    }\n",
       "</style>\n",
       "<table border=\"1\" class=\"dataframe\">\n",
       "  <thead>\n",
       "    <tr style=\"text-align: right;\">\n",
       "      <th></th>\n",
       "      <th>user_id</th>\n",
       "      <th>task_id</th>\n",
       "      <th>familiarity</th>\n",
       "      <th>complexity</th>\n",
       "    </tr>\n",
       "  </thead>\n",
       "  <tbody>\n",
       "    <tr>\n",
       "      <th>0</th>\n",
       "      <td>4edf0ff5-b5aa-4957-9431-4fbf4cacaf6a</td>\n",
       "      <td>task1</td>\n",
       "      <td>3</td>\n",
       "      <td>3</td>\n",
       "    </tr>\n",
       "    <tr>\n",
       "      <th>1</th>\n",
       "      <td>4edf0ff5-b5aa-4957-9431-4fbf4cacaf6a</td>\n",
       "      <td>task2</td>\n",
       "      <td>1</td>\n",
       "      <td>5</td>\n",
       "    </tr>\n",
       "    <tr>\n",
       "      <th>2</th>\n",
       "      <td>4edf0ff5-b5aa-4957-9431-4fbf4cacaf6a</td>\n",
       "      <td>task4</td>\n",
       "      <td>3</td>\n",
       "      <td>6</td>\n",
       "    </tr>\n",
       "    <tr>\n",
       "      <th>3</th>\n",
       "      <td>4edf0ff5-b5aa-4957-9431-4fbf4cacaf6a</td>\n",
       "      <td>task3</td>\n",
       "      <td>4</td>\n",
       "      <td>5</td>\n",
       "    </tr>\n",
       "    <tr>\n",
       "      <th>4</th>\n",
       "      <td>e0711a26-c616-463c-9b05-f0afaf871f31</td>\n",
       "      <td>task2</td>\n",
       "      <td>4</td>\n",
       "      <td>2</td>\n",
       "    </tr>\n",
       "    <tr>\n",
       "      <th>5</th>\n",
       "      <td>e0711a26-c616-463c-9b05-f0afaf871f31</td>\n",
       "      <td>task3</td>\n",
       "      <td>5</td>\n",
       "      <td>4</td>\n",
       "    </tr>\n",
       "    <tr>\n",
       "      <th>6</th>\n",
       "      <td>e0711a26-c616-463c-9b05-f0afaf871f31</td>\n",
       "      <td>task1</td>\n",
       "      <td>3</td>\n",
       "      <td>3</td>\n",
       "    </tr>\n",
       "    <tr>\n",
       "      <th>7</th>\n",
       "      <td>e0711a26-c616-463c-9b05-f0afaf871f31</td>\n",
       "      <td>task4</td>\n",
       "      <td>2</td>\n",
       "      <td>5</td>\n",
       "    </tr>\n",
       "    <tr>\n",
       "      <th>8</th>\n",
       "      <td>15c09788-9078-4e28-9ec0-91d634c5b9ca</td>\n",
       "      <td>task3</td>\n",
       "      <td>7</td>\n",
       "      <td>2</td>\n",
       "    </tr>\n",
       "    <tr>\n",
       "      <th>9</th>\n",
       "      <td>15c09788-9078-4e28-9ec0-91d634c5b9ca</td>\n",
       "      <td>task4</td>\n",
       "      <td>7</td>\n",
       "      <td>2</td>\n",
       "    </tr>\n",
       "  </tbody>\n",
       "</table>\n",
       "</div>"
      ],
      "text/plain": [
       "                                user_id task_id  familiarity  complexity\n",
       "0  4edf0ff5-b5aa-4957-9431-4fbf4cacaf6a   task1            3           3\n",
       "1  4edf0ff5-b5aa-4957-9431-4fbf4cacaf6a   task2            1           5\n",
       "2  4edf0ff5-b5aa-4957-9431-4fbf4cacaf6a   task4            3           6\n",
       "3  4edf0ff5-b5aa-4957-9431-4fbf4cacaf6a   task3            4           5\n",
       "4  e0711a26-c616-463c-9b05-f0afaf871f31   task2            4           2\n",
       "5  e0711a26-c616-463c-9b05-f0afaf871f31   task3            5           4\n",
       "6  e0711a26-c616-463c-9b05-f0afaf871f31   task1            3           3\n",
       "7  e0711a26-c616-463c-9b05-f0afaf871f31   task4            2           5\n",
       "8  15c09788-9078-4e28-9ec0-91d634c5b9ca   task3            7           2\n",
       "9  15c09788-9078-4e28-9ec0-91d634c5b9ca   task4            7           2"
      ]
     },
     "execution_count": 100,
     "metadata": {},
     "output_type": "execute_result"
    }
   ],
   "source": [
    "pretasks_df = extract_survey_results(pretasks_df)\n",
    "pretasks_df.head(10)\n"
   ]
  },
  {
   "cell_type": "markdown",
   "metadata": {},
   "source": [
    "2.1 Familiarity"
   ]
  },
  {
   "cell_type": "code",
   "execution_count": 103,
   "metadata": {},
   "outputs": [
    {
     "data": {
      "text/plain": [
       "0.08405612244897964"
      ]
     },
     "execution_count": 103,
     "metadata": {},
     "output_type": "execute_result"
    }
   ],
   "source": [
    "familiarity_alpha = cal_kippendorf_alpha(pretasks_df, 'familiarity')\n",
    "familiarity_alpha"
   ]
  },
  {
   "cell_type": "markdown",
   "metadata": {},
   "source": [
    "2.2 Pre complexity ratings"
   ]
  },
  {
   "cell_type": "code",
   "execution_count": 105,
   "metadata": {},
   "outputs": [
    {
     "data": {
      "text/plain": [
       "-0.006382978723404209"
      ]
     },
     "execution_count": 105,
     "metadata": {},
     "output_type": "execute_result"
    }
   ],
   "source": [
    "pre_complexity_alpha = cal_kippendorf_alpha(pretasks_df, 'complexity')\n",
    "pre_complexity_alpha"
   ]
  },
  {
   "cell_type": "markdown",
   "metadata": {},
   "source": [
    "2.3 Visualization"
   ]
  },
  {
   "cell_type": "code",
   "execution_count": 107,
   "metadata": {},
   "outputs": [],
   "source": [
    "# familiarity_heatmap = draw_heatmap(df=pretasks_df, selected_column='familiarity', cmap='YlGnBu')"
   ]
  },
  {
   "cell_type": "code",
   "execution_count": 108,
   "metadata": {},
   "outputs": [],
   "source": [
    "# pre_complexity_heatmap = draw_heatmap(df=pretasks_df, selected_column='complexity', cmap='BuPu')"
   ]
  },
  {
   "cell_type": "markdown",
   "metadata": {},
   "source": [
    "#### 3. Post-Task Data Analysis"
   ]
  },
  {
   "cell_type": "code",
   "execution_count": 109,
   "metadata": {},
   "outputs": [
    {
     "data": {
      "text/html": [
       "<div>\n",
       "<style scoped>\n",
       "    .dataframe tbody tr th:only-of-type {\n",
       "        vertical-align: middle;\n",
       "    }\n",
       "\n",
       "    .dataframe tbody tr th {\n",
       "        vertical-align: top;\n",
       "    }\n",
       "\n",
       "    .dataframe thead th {\n",
       "        text-align: right;\n",
       "    }\n",
       "</style>\n",
       "<table border=\"1\" class=\"dataframe\">\n",
       "  <thead>\n",
       "    <tr style=\"text-align: right;\">\n",
       "      <th></th>\n",
       "      <th>user_id</th>\n",
       "      <th>task_id</th>\n",
       "      <th>answer</th>\n",
       "      <th>complexity-rate</th>\n",
       "      <th>result-system</th>\n",
       "      <th>satisfaction-rate</th>\n",
       "      <th>attention</th>\n",
       "    </tr>\n",
       "  </thead>\n",
       "  <tbody>\n",
       "    <tr>\n",
       "      <th>0</th>\n",
       "      <td>4edf0ff5-b5aa-4957-9431-4fbf4cacaf6a</td>\n",
       "      <td>task1</td>\n",
       "      <td>Unhealthy Lifestyle e.g. Smoking and excessive...</td>\n",
       "      <td>3</td>\n",
       "      <td>Generative AI (ChatGPT)</td>\n",
       "      <td>6</td>\n",
       "      <td>Okay</td>\n",
       "    </tr>\n",
       "    <tr>\n",
       "      <th>1</th>\n",
       "      <td>4edf0ff5-b5aa-4957-9431-4fbf4cacaf6a</td>\n",
       "      <td>task2</td>\n",
       "      <td>Solenopsis invicta, also known as the red impo...</td>\n",
       "      <td>2</td>\n",
       "      <td>Generative AI (ChatGPT)</td>\n",
       "      <td>7</td>\n",
       "      <td>Okay</td>\n",
       "    </tr>\n",
       "    <tr>\n",
       "      <th>2</th>\n",
       "      <td>4edf0ff5-b5aa-4957-9431-4fbf4cacaf6a</td>\n",
       "      <td>task4</td>\n",
       "      <td>1. Cost: Conventional methods of home heating ...</td>\n",
       "      <td>3</td>\n",
       "      <td>Generative AI (ChatGPT)</td>\n",
       "      <td>5</td>\n",
       "      <td>Okay</td>\n",
       "    </tr>\n",
       "    <tr>\n",
       "      <th>3</th>\n",
       "      <td>4edf0ff5-b5aa-4957-9431-4fbf4cacaf6a</td>\n",
       "      <td>task3</td>\n",
       "      <td>Some food additives that may pose a risk to ph...</td>\n",
       "      <td>3</td>\n",
       "      <td>Generative AI (ChatGPT)</td>\n",
       "      <td>7</td>\n",
       "      <td>Okay</td>\n",
       "    </tr>\n",
       "    <tr>\n",
       "      <th>4</th>\n",
       "      <td>e0711a26-c616-463c-9b05-f0afaf871f31</td>\n",
       "      <td>task2</td>\n",
       "      <td>Solenopsis invicta</td>\n",
       "      <td>2</td>\n",
       "      <td>Both Google and ChatGPT</td>\n",
       "      <td>6</td>\n",
       "      <td>Okay</td>\n",
       "    </tr>\n",
       "    <tr>\n",
       "      <th>5</th>\n",
       "      <td>e0711a26-c616-463c-9b05-f0afaf871f31</td>\n",
       "      <td>task3</td>\n",
       "      <td>1. Artificial sweeteners\\n2. Sodium nitrate an...</td>\n",
       "      <td>5</td>\n",
       "      <td>Generative AI (ChatGPT)</td>\n",
       "      <td>5</td>\n",
       "      <td>Okay</td>\n",
       "    </tr>\n",
       "    <tr>\n",
       "      <th>6</th>\n",
       "      <td>e0711a26-c616-463c-9b05-f0afaf871f31</td>\n",
       "      <td>task1</td>\n",
       "      <td>Many factors can affect blood pressure, includ...</td>\n",
       "      <td>4</td>\n",
       "      <td>Normal search engine (Google)</td>\n",
       "      <td>5</td>\n",
       "      <td>Okay</td>\n",
       "    </tr>\n",
       "    <tr>\n",
       "      <th>7</th>\n",
       "      <td>e0711a26-c616-463c-9b05-f0afaf871f31</td>\n",
       "      <td>task4</td>\n",
       "      <td>1. Cost\\n2. Energy Efficiency\\n3. Environmenta...</td>\n",
       "      <td>5</td>\n",
       "      <td>Both Google and ChatGPT</td>\n",
       "      <td>5</td>\n",
       "      <td>Okay</td>\n",
       "    </tr>\n",
       "    <tr>\n",
       "      <th>8</th>\n",
       "      <td>15c09788-9078-4e28-9ec0-91d634c5b9ca</td>\n",
       "      <td>task3</td>\n",
       "      <td>Every food combines of many nutrients. It is t...</td>\n",
       "      <td>2</td>\n",
       "      <td>Normal search engine (Google)</td>\n",
       "      <td>4</td>\n",
       "      <td>Okay</td>\n",
       "    </tr>\n",
       "    <tr>\n",
       "      <th>9</th>\n",
       "      <td>15c09788-9078-4e28-9ec0-91d634c5b9ca</td>\n",
       "      <td>task4</td>\n",
       "      <td>It depends on your demand. Fossil are cheaper ...</td>\n",
       "      <td>3</td>\n",
       "      <td>Generative AI (ChatGPT)</td>\n",
       "      <td>5</td>\n",
       "      <td>Okay</td>\n",
       "    </tr>\n",
       "  </tbody>\n",
       "</table>\n",
       "</div>"
      ],
      "text/plain": [
       "                                user_id task_id  \\\n",
       "0  4edf0ff5-b5aa-4957-9431-4fbf4cacaf6a   task1   \n",
       "1  4edf0ff5-b5aa-4957-9431-4fbf4cacaf6a   task2   \n",
       "2  4edf0ff5-b5aa-4957-9431-4fbf4cacaf6a   task4   \n",
       "3  4edf0ff5-b5aa-4957-9431-4fbf4cacaf6a   task3   \n",
       "4  e0711a26-c616-463c-9b05-f0afaf871f31   task2   \n",
       "5  e0711a26-c616-463c-9b05-f0afaf871f31   task3   \n",
       "6  e0711a26-c616-463c-9b05-f0afaf871f31   task1   \n",
       "7  e0711a26-c616-463c-9b05-f0afaf871f31   task4   \n",
       "8  15c09788-9078-4e28-9ec0-91d634c5b9ca   task3   \n",
       "9  15c09788-9078-4e28-9ec0-91d634c5b9ca   task4   \n",
       "\n",
       "                                              answer  complexity-rate  \\\n",
       "0  Unhealthy Lifestyle e.g. Smoking and excessive...                3   \n",
       "1  Solenopsis invicta, also known as the red impo...                2   \n",
       "2  1. Cost: Conventional methods of home heating ...                3   \n",
       "3  Some food additives that may pose a risk to ph...                3   \n",
       "4                                 Solenopsis invicta                2   \n",
       "5  1. Artificial sweeteners\\n2. Sodium nitrate an...                5   \n",
       "6  Many factors can affect blood pressure, includ...                4   \n",
       "7  1. Cost\\n2. Energy Efficiency\\n3. Environmenta...                5   \n",
       "8  Every food combines of many nutrients. It is t...                2   \n",
       "9  It depends on your demand. Fossil are cheaper ...                3   \n",
       "\n",
       "                   result-system  satisfaction-rate attention  \n",
       "0        Generative AI (ChatGPT)                  6      Okay  \n",
       "1        Generative AI (ChatGPT)                  7      Okay  \n",
       "2        Generative AI (ChatGPT)                  5      Okay  \n",
       "3        Generative AI (ChatGPT)                  7      Okay  \n",
       "4        Both Google and ChatGPT                  6      Okay  \n",
       "5        Generative AI (ChatGPT)                  5      Okay  \n",
       "6  Normal search engine (Google)                  5      Okay  \n",
       "7        Both Google and ChatGPT                  5      Okay  \n",
       "8  Normal search engine (Google)                  4      Okay  \n",
       "9        Generative AI (ChatGPT)                  5      Okay  "
      ]
     },
     "execution_count": 109,
     "metadata": {},
     "output_type": "execute_result"
    }
   ],
   "source": [
    "posttasks_df = extract_survey_results(posttasks_df)\n",
    "posttasks_df.head(10)"
   ]
  },
  {
   "cell_type": "markdown",
   "metadata": {},
   "source": [
    "3.1 Task complexity ratings"
   ]
  },
  {
   "cell_type": "code",
   "execution_count": 110,
   "metadata": {},
   "outputs": [
    {
     "data": {
      "text/plain": [
       "-0.023291139240506187"
      ]
     },
     "execution_count": 110,
     "metadata": {},
     "output_type": "execute_result"
    }
   ],
   "source": [
    "post_complexity_alpha = cal_kippendorf_alpha(posttasks_df, 'complexity-rate')\n",
    "post_complexity_alpha"
   ]
  },
  {
   "cell_type": "markdown",
   "metadata": {},
   "source": [
    "3.2 Satisfaction ratings"
   ]
  },
  {
   "cell_type": "code",
   "execution_count": 111,
   "metadata": {},
   "outputs": [
    {
     "data": {
      "text/plain": [
       "-0.004558404558404172"
      ]
     },
     "execution_count": 111,
     "metadata": {},
     "output_type": "execute_result"
    }
   ],
   "source": [
    "satisfaction_alpha = cal_kippendorf_alpha(posttasks_df, 'satisfaction-rate')\n",
    "satisfaction_alpha"
   ]
  },
  {
   "cell_type": "markdown",
   "metadata": {},
   "source": [
    "3.3 Visualization"
   ]
  },
  {
   "cell_type": "code",
   "execution_count": 112,
   "metadata": {},
   "outputs": [],
   "source": [
    "# post_complexity_heatmap = draw_heatmap(df=posttasks_df, selected_column='complexity-rate', cmap='Blues')"
   ]
  },
  {
   "cell_type": "code",
   "execution_count": 113,
   "metadata": {},
   "outputs": [],
   "source": [
    "# satisfaction_heatmap = draw_heatmap(df=posttasks_df, selected_column='satisfaction-rate', cmap='Greens')"
   ]
  },
  {
   "cell_type": "markdown",
   "metadata": {},
   "source": [
    "##### 3.3 Answers for evaluation"
   ]
  },
  {
   "cell_type": "code",
   "execution_count": 116,
   "metadata": {},
   "outputs": [
    {
     "data": {
      "text/html": [
       "<div>\n",
       "<style scoped>\n",
       "    .dataframe tbody tr th:only-of-type {\n",
       "        vertical-align: middle;\n",
       "    }\n",
       "\n",
       "    .dataframe tbody tr th {\n",
       "        vertical-align: top;\n",
       "    }\n",
       "\n",
       "    .dataframe thead th {\n",
       "        text-align: right;\n",
       "    }\n",
       "</style>\n",
       "<table border=\"1\" class=\"dataframe\">\n",
       "  <thead>\n",
       "    <tr style=\"text-align: right;\">\n",
       "      <th></th>\n",
       "      <th>user_id</th>\n",
       "      <th>task_id</th>\n",
       "      <th>answer</th>\n",
       "    </tr>\n",
       "  </thead>\n",
       "  <tbody>\n",
       "    <tr>\n",
       "      <th>0</th>\n",
       "      <td>4edf0ff5-b5aa-4957-9431-4fbf4cacaf6a</td>\n",
       "      <td>task1</td>\n",
       "      <td>Unhealthy Lifestyle e.g. Smoking and excessive...</td>\n",
       "    </tr>\n",
       "    <tr>\n",
       "      <th>1</th>\n",
       "      <td>4edf0ff5-b5aa-4957-9431-4fbf4cacaf6a</td>\n",
       "      <td>task2</td>\n",
       "      <td>Solenopsis invicta, also known as the red impo...</td>\n",
       "    </tr>\n",
       "    <tr>\n",
       "      <th>2</th>\n",
       "      <td>4edf0ff5-b5aa-4957-9431-4fbf4cacaf6a</td>\n",
       "      <td>task4</td>\n",
       "      <td>1. Cost: Conventional methods of home heating ...</td>\n",
       "    </tr>\n",
       "    <tr>\n",
       "      <th>3</th>\n",
       "      <td>4edf0ff5-b5aa-4957-9431-4fbf4cacaf6a</td>\n",
       "      <td>task3</td>\n",
       "      <td>Some food additives that may pose a risk to ph...</td>\n",
       "    </tr>\n",
       "    <tr>\n",
       "      <th>4</th>\n",
       "      <td>e0711a26-c616-463c-9b05-f0afaf871f31</td>\n",
       "      <td>task2</td>\n",
       "      <td>Solenopsis invicta</td>\n",
       "    </tr>\n",
       "    <tr>\n",
       "      <th>5</th>\n",
       "      <td>e0711a26-c616-463c-9b05-f0afaf871f31</td>\n",
       "      <td>task3</td>\n",
       "      <td>1. Artificial sweeteners\\n2. Sodium nitrate an...</td>\n",
       "    </tr>\n",
       "    <tr>\n",
       "      <th>6</th>\n",
       "      <td>e0711a26-c616-463c-9b05-f0afaf871f31</td>\n",
       "      <td>task1</td>\n",
       "      <td>Many factors can affect blood pressure, includ...</td>\n",
       "    </tr>\n",
       "    <tr>\n",
       "      <th>7</th>\n",
       "      <td>e0711a26-c616-463c-9b05-f0afaf871f31</td>\n",
       "      <td>task4</td>\n",
       "      <td>1. Cost\\n2. Energy Efficiency\\n3. Environmenta...</td>\n",
       "    </tr>\n",
       "    <tr>\n",
       "      <th>8</th>\n",
       "      <td>15c09788-9078-4e28-9ec0-91d634c5b9ca</td>\n",
       "      <td>task3</td>\n",
       "      <td>Every food combines of many nutrients. It is t...</td>\n",
       "    </tr>\n",
       "    <tr>\n",
       "      <th>9</th>\n",
       "      <td>15c09788-9078-4e28-9ec0-91d634c5b9ca</td>\n",
       "      <td>task4</td>\n",
       "      <td>It depends on your demand. Fossil are cheaper ...</td>\n",
       "    </tr>\n",
       "  </tbody>\n",
       "</table>\n",
       "</div>"
      ],
      "text/plain": [
       "                                user_id task_id  \\\n",
       "0  4edf0ff5-b5aa-4957-9431-4fbf4cacaf6a   task1   \n",
       "1  4edf0ff5-b5aa-4957-9431-4fbf4cacaf6a   task2   \n",
       "2  4edf0ff5-b5aa-4957-9431-4fbf4cacaf6a   task4   \n",
       "3  4edf0ff5-b5aa-4957-9431-4fbf4cacaf6a   task3   \n",
       "4  e0711a26-c616-463c-9b05-f0afaf871f31   task2   \n",
       "5  e0711a26-c616-463c-9b05-f0afaf871f31   task3   \n",
       "6  e0711a26-c616-463c-9b05-f0afaf871f31   task1   \n",
       "7  e0711a26-c616-463c-9b05-f0afaf871f31   task4   \n",
       "8  15c09788-9078-4e28-9ec0-91d634c5b9ca   task3   \n",
       "9  15c09788-9078-4e28-9ec0-91d634c5b9ca   task4   \n",
       "\n",
       "                                              answer  \n",
       "0  Unhealthy Lifestyle e.g. Smoking and excessive...  \n",
       "1  Solenopsis invicta, also known as the red impo...  \n",
       "2  1. Cost: Conventional methods of home heating ...  \n",
       "3  Some food additives that may pose a risk to ph...  \n",
       "4                                 Solenopsis invicta  \n",
       "5  1. Artificial sweeteners\\n2. Sodium nitrate an...  \n",
       "6  Many factors can affect blood pressure, includ...  \n",
       "7  1. Cost\\n2. Energy Efficiency\\n3. Environmenta...  \n",
       "8  Every food combines of many nutrients. It is t...  \n",
       "9  It depends on your demand. Fossil are cheaper ...  "
      ]
     },
     "execution_count": 116,
     "metadata": {},
     "output_type": "execute_result"
    }
   ],
   "source": [
    "answers_data = posttasks_df[['user_id', 'task_id', 'answer']]\n",
    "answers_data.head(10)"
   ]
  },
  {
   "cell_type": "code",
   "execution_count": 119,
   "metadata": {},
   "outputs": [
    {
     "data": {
      "text/plain": [
       "'Some food additives that may pose a risk to physical health include:\\n\\n1. Artificial colors: Some artificial colors, such as Red 40 and Yellow 6, have been linked to behavioral issues and hyperactivity in children.\\n\\n2. Artificial sweeteners: Sweeteners like aspartame and saccharin have been associated with negative health effects, including headaches, digestive issues, and potential links to cancer.\\n\\n3. Preservatives: Preservatives like sodium nitrate and sulfites have been linked to allergies, asthma, and other adverse reactions in some individuals.\\n\\n4. Trans fats: Hydrogenated oils, which contain trans fats, have been linked to an increased risk of heart disease and other chronic health conditions.\\n\\n5. MSG (monosodium glutamate): This flavor enhancer has been linked to headaches, sweating, and other symptoms in some individuals.\\n\\nThese additives are likely to be listed on grocery store labels under their specific names or as part of a broader category (e.g. \"artificial colors\" or \"preservatives\"). It\\'s important to read ingredient labels carefully and consider potential risks before consuming processed foods with these additives.'"
      ]
     },
     "execution_count": 119,
     "metadata": {},
     "output_type": "execute_result"
    }
   ],
   "source": [
    "# get the answer for task 3 of user 1 \n",
    "filtered_data = answers_data[(answers_data['user_id'] == '4edf0ff5-b5aa-4957-9431-4fbf4cacaf6a') & (answers_data['task_id'] == 'task3')]\n",
    "answer = filtered_data['answer'].values[0] if not filtered_data.empty else None\n",
    "answer"
   ]
  },
  {
   "cell_type": "markdown",
   "metadata": {},
   "source": [
    "#### 4 Demographic Data"
   ]
  },
  {
   "cell_type": "code",
   "execution_count": null,
   "metadata": {},
   "outputs": [],
   "source": [
    "poststudies_df = extract_survey_results(poststudies_df)\n",
    "poststudies_df"
   ]
  },
  {
   "cell_type": "code",
   "execution_count": null,
   "metadata": {},
   "outputs": [],
   "source": [
    "# filter only participants who need VP-Stunden\n",
    "VP_data = poststudies_df[(poststudies_df['Vp-stunden'] == True)]\n",
    "matrikel_nr_list = VP_data['matrikel-nr']\n",
    "matrikel_nr_list\n",
    "\n",
    "'''\n",
    "Title: Writing a list to a file with Python, with newlines\n",
    "Author: Alex Martelli\n",
    "Date: May 22, 2009\n",
    "Availability: https://stackoverflow.com/questions/899103/writing-a-list-to-a-file-with-python-with-newlines\n",
    "'''\n",
    "with open('matrikel_nr_list.txt', 'w') as f:\n",
    "    for line in matrikel_nr_list:\n",
    "        f.write(f\"{line}\\n\")"
   ]
  },
  {
   "cell_type": "markdown",
   "metadata": {},
   "source": [
    "### b. Interaction Data "
   ]
  },
  {
   "cell_type": "code",
   "execution_count": null,
   "metadata": {},
   "outputs": [],
   "source": [
    "tasks_df.rename(columns={'id':'task_id'}, inplace=True)\n",
    "tasks_df"
   ]
  },
  {
   "cell_type": "code",
   "execution_count": null,
   "metadata": {},
   "outputs": [],
   "source": [
    "sessions_df['session_total_time'] = sessions_df.apply(lambda row: cal_total_time(row['session_start_time'], row['session_end_time']), axis=1)\n",
    "columns = ['_id', '__v', 'session_start_time', 'session_end_time']\n",
    "sessions_df = sessions_df.drop(columns=columns, axis=1)"
   ]
  },
  {
   "cell_type": "code",
   "execution_count": null,
   "metadata": {},
   "outputs": [],
   "source": [
    "sessions_df"
   ]
  },
  {
   "cell_type": "markdown",
   "metadata": {},
   "source": [
    "##### 1. Time overall"
   ]
  },
  {
   "cell_type": "code",
   "execution_count": null,
   "metadata": {},
   "outputs": [],
   "source": [
    "sessions_merged_df= pd.merge(sessions_df, tasks_df, on='task_id', how='left')\n",
    "sessions_merged_df = sessions_merged_df.drop(['title', 'desc'], axis=1)"
   ]
  },
  {
   "cell_type": "code",
   "execution_count": null,
   "metadata": {},
   "outputs": [],
   "source": [
    "sessions_merged_df "
   ]
  },
  {
   "cell_type": "code",
   "execution_count": null,
   "metadata": {},
   "outputs": [],
   "source": [
    "task_time_df = sessions_merged_df[['task_id', 'session_total_time']]\n",
    "task_time_df"
   ]
  },
  {
   "cell_type": "code",
   "execution_count": null,
   "metadata": {},
   "outputs": [],
   "source": [
    "# calculate the overall time for each task\n",
    "def cal_time_each_task(dataframe):\n",
    "    task_time_list = dataframe.to_dict('records')\n",
    "\n",
    "    task_time_dict = {}\n",
    "\n",
    "    for entry in task_time_list:\n",
    "        task_id = entry[\"task_id\"]\n",
    "        session_time = datetime.strptime(entry[\"session_total_time\"], \"%H:%M:%S\")\n",
    "        if task_id in task_time_dict:\n",
    "            task_time_dict[task_id] += session_time - datetime(1900, 1, 1)\n",
    "        else:\n",
    "            task_time_dict[task_id] = session_time - datetime(1900, 1, 1)\n",
    "\n",
    "    return task_time_dict"
   ]
  },
  {
   "cell_type": "code",
   "execution_count": null,
   "metadata": {},
   "outputs": [],
   "source": [
    "# Visualization using horizontal bar chart\n",
    "'''\n",
    "Title: Bar Plot in Matplotlib\n",
    "Author: jeeteshgavand\n",
    "Date: 04 Mar, 2021\n",
    "Availability: https://www.geeksforgeeks.org/bar-plot-in-matplotlib/\n",
    "'''\n",
    "def visualize_time_each_task(task_time_dict):\n",
    "    # Figure Size\n",
    "    fig, ax = plt.subplots(figsize =(8, 3))\n",
    "    \n",
    "    task_overalltime_minutes = {key: value.total_seconds()/60 for key, value in task_time_dict.items()}\n",
    "\n",
    "    tasks = list(task_overalltime_minutes.keys())\n",
    "    minutes = list(task_overalltime_minutes.values())\n",
    "    # Horizontal Bar Plot\n",
    "    ax.barh(tasks, minutes)\n",
    "    \n",
    "    # Remove axes splines\n",
    "    for s in ['top', 'bottom', 'left', 'right']:\n",
    "        ax.spines[s].set_visible(False)\n",
    "    \n",
    "    # Remove x, y Ticks\n",
    "    ax.xaxis.set_ticks_position('none')\n",
    "    ax.yaxis.set_ticks_position('none')\n",
    "    \n",
    "    # Add padding between axes and labels\n",
    "    ax.xaxis.set_tick_params(pad = 5)\n",
    "    ax.yaxis.set_tick_params(pad = 10)\n",
    "    \n",
    "    # Add x, y gridlines\n",
    "    ax.grid(b = True, color ='grey',\n",
    "            linestyle ='-.', linewidth = 0.5,\n",
    "            alpha = 0.2)\n",
    "    \n",
    "    # Show top values \n",
    "    ax.invert_yaxis()\n",
    "    \n",
    "    # Add annotation to bars\n",
    "    for i in ax.patches:\n",
    "        plt.text(i.get_width()+0.2, i.get_y()+0.5, \n",
    "                str(round((i.get_width()), 2)),\n",
    "                fontsize = 10, fontweight ='bold',\n",
    "                color ='grey')\n",
    "    \n",
    "        # Adding labels and title\n",
    "    ax.set_xlabel('Minutes')\n",
    "    ax.set_title('Overall Time for each Task',\n",
    "                loc ='left', )\n",
    "    ax.figure.savefig(\"plot_output/Overall_Time_each_Task.jpg\")"
   ]
  },
  {
   "cell_type": "code",
   "execution_count": null,
   "metadata": {},
   "outputs": [],
   "source": [
    "# Visualization using vertical bar chart\n",
    "def visualize_overalltime(task_time_dict): \n",
    "    simple_tasks_overalltime = (task_time_dict['task1'] + task_time_dict['task2']).total_seconds()/60\n",
    "    complex_tasks_overalltime =(task_time_dict['task3'] + task_time_dict['task4']).total_seconds()/60\n",
    "\n",
    "    # Data for plotting\n",
    "    tasks = ['Simple Tasks', 'Complex Tasks']\n",
    "    times = [simple_tasks_overalltime, complex_tasks_overalltime]\n",
    "\n",
    "    fig = plt.figure(figsize = (5, 3))\n",
    "\n",
    "    # Plotting the bar chart\n",
    "    plt.bar(tasks, times, color ='maroon')\n",
    "\n",
    "    # Adding labels and title\n",
    "    plt.xlabel('Task Type')\n",
    "    plt.ylabel('Overall Time (minutes)')\n",
    "    plt.title('Overall Time for Simple vs Complex Tasks')\n",
    "    plt.savefig(\"plot_output/overalltime.jpg\")"
   ]
  },
  {
   "cell_type": "code",
   "execution_count": null,
   "metadata": {},
   "outputs": [],
   "source": [
    "# calculate the overall time for each type of tasks\n",
    "def print_overalltime(task_time_dict):\n",
    "    \n",
    "    # Convert total times to string format\n",
    "    simple_tasks_overalltime = str(task_time_dict['task1'] + task_time_dict['task2'])\n",
    "    complex_tasks_overalltime = str(task_time_dict['task3'] + task_time_dict['task4'])\n",
    "\n",
    "    for task_id, total_time in task_time_dict.items():\n",
    "        task_time_dict[task_id] = str(total_time)\n",
    "\n",
    "    # print overalltime\n",
    "    print(\"Overall time for each task:\")\n",
    "    for task_id, total_time in task_time_dict.items():\n",
    "        print(f\"{task_id}: {total_time}\")\n",
    "\n",
    "    print('Overall time for simple tasks: ' + simple_tasks_overalltime)\n",
    "    print('Overall time for complex tasks: ' + complex_tasks_overalltime)"
   ]
  },
  {
   "cell_type": "code",
   "execution_count": null,
   "metadata": {},
   "outputs": [],
   "source": [
    "task_overalltime = cal_time_each_task(task_time_df)\n",
    "visualize_time_each_task(task_overalltime)\n",
    "visualize_overalltime(task_overalltime)\n",
    "print_overalltime(task_overalltime)"
   ]
  },
  {
   "cell_type": "markdown",
   "metadata": {},
   "source": [
    "##### 2. Queries"
   ]
  },
  {
   "cell_type": "markdown",
   "metadata": {},
   "source": [
    "2.1. Search Queries"
   ]
  },
  {
   "cell_type": "code",
   "execution_count": null,
   "metadata": {},
   "outputs": [],
   "source": [
    "# Count number of queries each task when interacting with SE or Chat\n",
    "def count_queries_each_task(dict):\n",
    "    queries_counts = defaultdict(int)\n",
    "\n",
    "    for item in dict:\n",
    "        queries_counts[item['task_id']] += 1\n",
    "\n",
    "    return queries_counts"
   ]
  },
  {
   "cell_type": "code",
   "execution_count": null,
   "metadata": {},
   "outputs": [],
   "source": [
    "task_session_df = sessions_merged_df[['session_id', 'task_id']]\n",
    "task_session_df "
   ]
  },
  {
   "cell_type": "code",
   "execution_count": null,
   "metadata": {},
   "outputs": [],
   "source": [
    "cols = ['_id', '__v', 'createdAt', 'updatedAt']\n",
    "searchinteractions_df = searchinteractions_df.drop(columns=cols, axis=1)\n",
    "documents_df = documents_df.drop(columns=cols, axis=1)"
   ]
  },
  {
   "cell_type": "code",
   "execution_count": null,
   "metadata": {},
   "outputs": [],
   "source": [
    "googlesearch_merged_df = pd.merge(searchinteractions_df, task_session_df, on='session_id', how='inner')\n",
    "googlesearch_merged_df.head(10)"
   ]
  },
  {
   "cell_type": "code",
   "execution_count": null,
   "metadata": {},
   "outputs": [],
   "source": [
    "task_queries_SE_df = googlesearch_merged_df[['query', 'task_id']]\n",
    "task_queries_SE_df"
   ]
  },
  {
   "cell_type": "code",
   "execution_count": null,
   "metadata": {},
   "outputs": [],
   "source": [
    "task_queries_SE_dict = task_queries_SE_df.to_dict('records')\n",
    "task_queries_SE_dict"
   ]
  },
  {
   "cell_type": "markdown",
   "metadata": {},
   "source": [
    "2.2. Chat Queries"
   ]
  },
  {
   "cell_type": "code",
   "execution_count": null,
   "metadata": {},
   "outputs": [],
   "source": [
    "chatinteractions_df = chatinteractions_df[['user_id', 'session_id', 'interaction_type', 'messages']]\n",
    "chatinteractions_df"
   ]
  },
  {
   "cell_type": "code",
   "execution_count": null,
   "metadata": {},
   "outputs": [],
   "source": [
    "chat_merged_df = pd.merge(chatinteractions_df, task_session_df, on='session_id', how='inner')\n",
    "chat_merged_df.head(10)"
   ]
  },
  {
   "cell_type": "code",
   "execution_count": null,
   "metadata": {},
   "outputs": [],
   "source": [
    "def extract_chat_queries():  \n",
    "    task_query_AI_dict = chat_merged_df[['messages', 'task_id']].to_dict() \n",
    "    extracted_data = []\n",
    "    for key, value in task_query_AI_dict['messages'].items():\n",
    "        if value is not None:\n",
    "            for task_id, sublist in enumerate(value):\n",
    "                for message in sublist:\n",
    "                    if not message['isBot']:\n",
    "                        extracted_data.append({'task_id': task_query_AI_dict['task_id'][key], 'query': message['text']})\n",
    "    return extracted_data"
   ]
  },
  {
   "cell_type": "code",
   "execution_count": null,
   "metadata": {},
   "outputs": [],
   "source": [
    "task_queries_AI_dict = extract_chat_queries()\n",
    "task_queries_AI_dict"
   ]
  },
  {
   "cell_type": "code",
   "execution_count": null,
   "metadata": {},
   "outputs": [],
   "source": [
    "task_queries_AI_df = pd.DataFrame(task_queries_AI_dict)\n",
    "task_queries_AI_df "
   ]
  },
  {
   "cell_type": "markdown",
   "metadata": {},
   "source": [
    "2.3. Number of queries each system"
   ]
  },
  {
   "cell_type": "code",
   "execution_count": null,
   "metadata": {},
   "outputs": [],
   "source": [
    "queries_SE_counts = count_queries_each_task(task_queries_SE_dict)\n",
    "queries_SE_counts_df = pd.DataFrame(list(queries_SE_counts .items()), columns=['Task ID', 'Num Queries SE'])\n",
    "queries_SE_counts_df"
   ]
  },
  {
   "cell_type": "code",
   "execution_count": null,
   "metadata": {},
   "outputs": [],
   "source": [
    "queries_AI_counts = count_queries_each_task(task_queries_AI_dict)\n",
    "queries_AI_counts_df = pd.DataFrame(list(queries_AI_counts .items()), columns=['Task ID', 'Num Queries AI'])\n",
    "queries_AI_counts_df"
   ]
  },
  {
   "cell_type": "code",
   "execution_count": null,
   "metadata": {},
   "outputs": [],
   "source": [
    "queries_system_df = pd.merge(queries_AI_counts_df, queries_SE_counts_df, on='Task ID', how='outer')\n",
    "queries_system_df"
   ]
  },
  {
   "cell_type": "markdown",
   "metadata": {},
   "source": [
    "2.4. Mean query length each system"
   ]
  },
  {
   "cell_type": "code",
   "execution_count": null,
   "metadata": {},
   "outputs": [],
   "source": [
    "def cal_mean_query_length (dict, system):\n",
    "    # Dictionary to store total query length and count for each task\n",
    "    task_lengths = defaultdict(lambda: {'total_length': 0, 'count': 0})\n",
    "\n",
    "    # Calculate total query length and count for each task\n",
    "    for query in dict:\n",
    "        task_id = query['task_id']\n",
    "        query_length = len(query['query'].split())  # Split query by space and count words\n",
    "        task_lengths[task_id]['total_length'] += query_length\n",
    "        task_lengths[task_id]['count'] += 1\n",
    "\n",
    "    # Calculate mean query length for each task\n",
    "    mean_lengths = {task_id: task_info['total_length'] / task_info['count'] for task_id, task_info in task_lengths.items()}\n",
    "\n",
    "    df = pd.DataFrame(mean_lengths.items(), columns=['Task ID', f\"Mean Length Query{system}\"])\n",
    "    return df"
   ]
  },
  {
   "cell_type": "code",
   "execution_count": null,
   "metadata": {},
   "outputs": [],
   "source": [
    "mean_length_queryAI_df = cal_mean_query_length(task_queries_AI_dict, \"AI\")\n",
    "mean_length_queryAI_df"
   ]
  },
  {
   "cell_type": "code",
   "execution_count": null,
   "metadata": {},
   "outputs": [],
   "source": [
    "mean_length_querySE_df = cal_mean_query_length(task_queries_SE_dict, \"SE\")\n",
    "mean_length_querySE_df"
   ]
  },
  {
   "cell_type": "code",
   "execution_count": null,
   "metadata": {},
   "outputs": [],
   "source": [
    "mean_query_length_df = pd.merge(mean_length_queryAI_df, mean_length_querySE_df, on='Task ID', how='outer')\n",
    "mean_query_length_df"
   ]
  },
  {
   "cell_type": "markdown",
   "metadata": {},
   "source": [
    "* Visualization "
   ]
  },
  {
   "cell_type": "code",
   "execution_count": null,
   "metadata": {},
   "outputs": [],
   "source": [
    "# Visualization using multiple bar charts\n",
    "'''\n",
    "Title: Bar Plot in Matplotlib\n",
    "Author: jeeteshgavand\n",
    "Date: 04 Mar, 2021\n",
    "Availability: https://www.geeksforgeeks.org/bar-plot-in-matplotlib/\n",
    "'''\n",
    "def visualize_bar_chart(df, col1, col2, ylabel): \n",
    "    barWidth = 0.25\n",
    "    fig = plt.subplots(figsize =(6, 3)) \n",
    "\n",
    "    list1 = df[col1]\n",
    "    list2 = df[col2]\n",
    "    \n",
    "    br1 = np.arange(len(list1)) \n",
    "    br2 = [x + barWidth for x in br1] \n",
    "    \n",
    "    plt.bar(br1, list1, color ='r', width = barWidth, \n",
    "            edgecolor ='grey', label =col1) \n",
    "    plt.bar(br2, list2, color ='g', width = barWidth, \n",
    "            edgecolor ='grey', label =col2) \n",
    "\n",
    "    plt.xlabel('Task ID', fontsize = 15) \n",
    "    plt.ylabel( ylabel, fontsize = 15) \n",
    "    plt.xticks([r + barWidth for r in range(len(list1))], df['Task ID'])\n",
    "    \n",
    "    plt.legend()\n",
    "    plt.savefig(f\"plot_output/{ylabel}.jpg\")"
   ]
  },
  {
   "cell_type": "code",
   "execution_count": null,
   "metadata": {},
   "outputs": [],
   "source": [
    "num_Queries_AI ='Num Queries AI'\n",
    "num_Queries_SE ='Num Queries SE'\n",
    "visualize_bar_chart(queries_system_df, num_Queries_AI, num_Queries_SE, \"Number of Queries\")"
   ]
  },
  {
   "cell_type": "code",
   "execution_count": null,
   "metadata": {},
   "outputs": [],
   "source": [
    "mean_length_AI = \"Mean Length QueryAI\"\n",
    "mean_length_SE = \"Mean Length QuerySE\"\n",
    "visualize_bar_chart(mean_query_length_df, mean_length_AI, mean_length_SE, \"Mean Query Length\")"
   ]
  },
  {
   "cell_type": "code",
   "execution_count": null,
   "metadata": {},
   "outputs": [],
   "source": [
    "# Visualize using boxplots\n",
    "def visualize_boxplot(df, system):\n",
    "    df['query_length'] = df['query'].apply(len)\n",
    "\n",
    "    plt.figure(figsize=(6,3))\n",
    "    df.boxplot(column='query_length', by='task_id')\n",
    "    plt.title(f'Boxplot of Query Length {system} for Each Task')\n",
    "    plt.xlabel('Task ID')\n",
    "    plt.ylabel('Query Length')\n",
    "    plt.suptitle('')\n",
    "    plt.savefig(f\"plot_output/query_length_{system}.jpg\")"
   ]
  },
  {
   "cell_type": "code",
   "execution_count": null,
   "metadata": {},
   "outputs": [],
   "source": [
    "visualize_boxplot(task_queries_AI_df, \"AI\")"
   ]
  },
  {
   "cell_type": "code",
   "execution_count": null,
   "metadata": {},
   "outputs": [],
   "source": [
    "visualize_boxplot(task_queries_SE_df, \"SE\")"
   ]
  },
  {
   "cell_type": "markdown",
   "metadata": {},
   "source": [
    "##### 3. Doc position analysis"
   ]
  },
  {
   "cell_type": "code",
   "execution_count": null,
   "metadata": {},
   "outputs": [],
   "source": [
    "googlesearch_docs_df = pd.merge(googlesearch_merged_df, documents_df, on='interaction_id', how='inner')\n",
    "googlesearch_docs_df.head(10)"
   ]
  },
  {
   "cell_type": "code",
   "execution_count": null,
   "metadata": {},
   "outputs": [],
   "source": [
    "googlesearch_docs_df = googlesearch_docs_df[['task_id', 'doc_position', 'doc_page_viewed']]\n",
    "googlesearch_docs_df.head(10)"
   ]
  },
  {
   "cell_type": "code",
   "execution_count": null,
   "metadata": {},
   "outputs": [],
   "source": [
    "result_docs_pos = googlesearch_docs_df.groupby(['task_id', 'doc_position']).size().reset_index(name='count')\n",
    "result_docs_pos "
   ]
  },
  {
   "cell_type": "code",
   "execution_count": null,
   "metadata": {},
   "outputs": [],
   "source": [
    "result_docs_page_viewed = googlesearch_docs_df.groupby(['task_id', 'doc_page_viewed']).size().reset_index(name='count')\n",
    "result_docs_page_viewed"
   ]
  },
  {
   "cell_type": "markdown",
   "metadata": {},
   "source": [
    "* Visualization"
   ]
  },
  {
   "cell_type": "code",
   "execution_count": null,
   "metadata": {},
   "outputs": [],
   "source": [
    "def visualize_stackedbar(df, index): \n",
    "    pivot_df = df.pivot(index=index, columns='task_id', values='count').fillna(0)\n",
    "\n",
    "    plt.figure(figsize=(6, 3))\n",
    "    sns.set_palette(\"husl\")\n",
    "    pivot_df.plot(kind='bar', stacked=True)\n",
    "    plt.xlabel(index)\n",
    "    plt.ylabel('Count')\n",
    "    plt.title(f'Count vs {index} for each Task')\n",
    "    plt.legend(title='Task ID')\n",
    "    plt.savefig(f\"plot_output/count_{index}.jpg\")"
   ]
  },
  {
   "cell_type": "code",
   "execution_count": null,
   "metadata": {},
   "outputs": [],
   "source": [
    "visualize_stackedbar(result_docs_pos, 'doc_position')"
   ]
  },
  {
   "cell_type": "code",
   "execution_count": null,
   "metadata": {},
   "outputs": [],
   "source": [
    "visualize_stackedbar(result_docs_page_viewed, 'doc_page_viewed')"
   ]
  },
  {
   "cell_type": "markdown",
   "metadata": {},
   "source": [
    "# Inferential statistics"
   ]
  },
  {
   "cell_type": "code",
   "execution_count": null,
   "metadata": {},
   "outputs": [],
   "source": [
    "new_posttasks_df = pd.merge(posttasks_df, tasks_df, on=\"task_id\", how=\"inner\")\n",
    "new_posttasks_df = new_posttasks_df[['task_id', 'result-system', 'complexity-rate', 'satisfaction-rate', 'category' ]]\n",
    "new_posttasks_df"
   ]
  },
  {
   "cell_type": "code",
   "execution_count": null,
   "metadata": {},
   "outputs": [],
   "source": [
    "h2_df = new_posttasks_df[['task_id', 'result-system', 'category']]\n",
    "h2_df"
   ]
  }
 ],
 "metadata": {
  "kernelspec": {
   "display_name": "base",
   "language": "python",
   "name": "python3"
  },
  "language_info": {
   "codemirror_mode": {
    "name": "ipython",
    "version": 3
   },
   "file_extension": ".py",
   "mimetype": "text/x-python",
   "name": "python",
   "nbconvert_exporter": "python",
   "pygments_lexer": "ipython3",
   "version": "3.9.7"
  }
 },
 "nbformat": 4,
 "nbformat_minor": 2
}
